{
 "cells": [
  {
   "cell_type": "code",
   "execution_count": 1,
   "metadata": {},
   "outputs": [],
   "source": [
    "import torch \n",
    "import torch.nn as nn\n",
    "from lib.solvers import anderson, broyden\n",
    "from lib.jacobian import jac_loss_estimate"
   ]
  },
  {
   "cell_type": "code",
   "execution_count": 2,
   "metadata": {},
   "outputs": [],
   "source": [
    "class ConcatConditioning(nn.Module):\n",
    "    def __init__(self, xdim, ydim, zdim):\n",
    "        super(ConcatConditioning, self).__init__()\n",
    "\n",
    "        self.xdim = xdim \n",
    "        self.ydim = ydim \n",
    "        self.zdim = zdim \n",
    "\n",
    "        self.linear = nn.Linear(xdim + ydim, zdim)\n",
    "        self.act = torch.nn.functional.relu\n",
    "    \n",
    "    def forward(self, x, y):\n",
    "        assert x.size(1) == self.xdim \n",
    "        assert y.size(1) == self.ydim \n",
    "        \n",
    "        b, c, l = x.shape\n",
    "        x = x.permute(0,2,1)\n",
    "        y = y.permute(0,2,1)\n",
    "\n",
    "        m = torch.cat([x,y], axis=-1)\n",
    "        z = self.act(self.linear(m))\n",
    "        z = z.permute(0,2,1)\n",
    "        return z "
   ]
  },
  {
   "cell_type": "code",
   "execution_count": 7,
   "metadata": {},
   "outputs": [],
   "source": [
    "class DEQConditioning(nn.Module):\n",
    "    def __init__(self, dim, solver='anderson', f_thres=40, b_thres=40, jac_loss=False):\n",
    "        super(DEQConditioning, self).__init__()\n",
    "        self.xdim = dim \n",
    "        self.zdim = dim\n",
    "        if solver == 'anderson':\n",
    "            self.solver = anderson \n",
    "        elif solver == 'broyden':\n",
    "            self.solver = broyden\n",
    "        self.f_thres = f_thres\n",
    "        self.b_thres = b_thres \n",
    "        self.jac_loss = jac_loss \n",
    "        self.f = ConcatConditioning(dim, dim, dim)\n",
    "    \n",
    "    def forward(self, x, z):\n",
    "\n",
    "        assert x.size(1) == self.xdim \n",
    "        assert z.size(1) == self.zdim \n",
    "        x = x.unsqueeze(-1)\n",
    "        z = z.unsqueeze(-1)\n",
    "        \n",
    "        with torch.no_grad():\n",
    "            z_star = self.solver(lambda z: self.f(z, x), z, threshold=self.f_thres)['result']   # See step 2 above\n",
    "            new_z_star = z_star\n",
    "\n",
    "\n",
    "        if self.training:\n",
    "            new_z_star = self.f(z_star.requires_grad_(), x)\n",
    "            \n",
    "            # Jacobian-related computations, see additional step above. For instance:\n",
    "            jac_loss = jac_loss_estimate(new_z_star, z_star, vecs=1)\n",
    "\n",
    "            def backward_hook(grad):\n",
    "                if self.hook is not None:\n",
    "                    self.hook.remove()\n",
    "                    torch.cuda.synchronize()   # To avoid infinite recursion\n",
    "                # Compute the fixed point of yJ + grad, where J=J_f is the Jacobian of f at z_star\n",
    "                new_grad = self.solver(lambda y: autograd.grad(new_z_star, z_star, y, retain_graph=True)[0] + grad, \\\n",
    "                                       torch.zeros_like(grad), threshold=self.b_thres)['result']\n",
    "                return new_grad\n",
    "\n",
    "            self.hook = new_z_star.register_hook(backward_hook)\n",
    "\n",
    "        new_z_star = new_z_star[...,0]\n",
    "\n",
    "        if self.jac_loss:\n",
    "            return new_z_star, jac_loss \n",
    "        else:\n",
    "            return new_z_star"
   ]
  },
  {
   "cell_type": "code",
   "execution_count": 8,
   "metadata": {},
   "outputs": [],
   "source": [
    "bs, xdim, ydim = 16, 32, 32\n",
    "x = torch.rand(bs, xdim)\n",
    "y = torch.rand(bs, ydim)"
   ]
  },
  {
   "cell_type": "code",
   "execution_count": 9,
   "metadata": {},
   "outputs": [],
   "source": [
    "cond = DEQConditioning(32)"
   ]
  },
  {
   "cell_type": "code",
   "execution_count": 10,
   "metadata": {},
   "outputs": [
    {
     "data": {
      "text/plain": [
       "torch.Size([16, 32])"
      ]
     },
     "execution_count": 10,
     "metadata": {},
     "output_type": "execute_result"
    }
   ],
   "source": [
    "cond(x, y).shape"
   ]
  },
  {
   "cell_type": "code",
   "execution_count": null,
   "metadata": {},
   "outputs": [],
   "source": []
  }
 ],
 "metadata": {
  "kernelspec": {
   "display_name": "Python 3 (ipykernel)",
   "language": "python",
   "name": "python3"
  },
  "language_info": {
   "codemirror_mode": {
    "name": "ipython",
    "version": 3
   },
   "file_extension": ".py",
   "mimetype": "text/x-python",
   "name": "python",
   "nbconvert_exporter": "python",
   "pygments_lexer": "ipython3",
   "version": "3.9.13"
  },
  "orig_nbformat": 4
 },
 "nbformat": 4,
 "nbformat_minor": 2
}
